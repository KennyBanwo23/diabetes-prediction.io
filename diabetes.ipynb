{
 "cells": [
  {
   "cell_type": "markdown",
   "id": "1b6d3a89",
   "metadata": {},
   "source": [
    "### Step 1: Import dependencies / Libraries"
   ]
  },
  {
   "cell_type": "code",
   "execution_count": 1,
   "id": "175393a1",
   "metadata": {},
   "outputs": [],
   "source": [
    "#import libraries\n",
    "\n",
    "import numpy as np\n",
    "import pandas as pd\n",
    "import seaborn as sns\n",
    "import matplotlib.pyplot as plt\n",
    "import warnings\n",
    "\n",
    "\n",
    "warnings.filterwarnings('ignore')"
   ]
  },
  {
   "cell_type": "markdown",
   "id": "ea7dc554",
   "metadata": {},
   "source": [
    "### Step 2: Load the Dataset"
   ]
  },
  {
   "cell_type": "code",
   "execution_count": 22,
   "id": "8ec3a337",
   "metadata": {},
   "outputs": [],
   "source": [
    "# Load the dataset\n",
    "df = pd.read_csv(\"C:/Users/diabetes.csv\")"
   ]
  },
  {
   "cell_type": "markdown",
   "id": "7b46432b",
   "metadata": {},
   "source": [
    "### Step 3: Exploratory Data Analysis\n",
    "Explanatory Data Analysis (EDA), also known as Data Exploration, is a big step in the Data Analysis Process, where a number of techniques are used to understand the dataset being used.\n",
    "In this step, we will perform the following operations:\n",
    "\n",
    "#### 1. Understanding the Variables\n",
    "    a. Head of the dataset\n",
    "    b. Shape of the dataset\n",
    "    c. List types of all columns\n",
    "    d. Info of the dataset\n",
    "    e. Summary of the dataset\n",
    "\n",
    "#### 2. Data Cleaning\n",
    "    a. Check the DUPLICATES\n",
    "    b. Check the NULL values\n",
    " \n"
   ]
  },
  {
   "cell_type": "markdown",
   "id": "761dd0ae",
   "metadata": {},
   "source": [
    "#### a. Head of the Dataset\n",
    "The head() function will display the top records in the dataset. By default, Python shows us only the top 5 records.\n",
    "This head(n) function returns the first n rows for the object based on position. It is useful for quick testing to check if an object has the right type of data in it."
   ]
  },
  {
   "cell_type": "markdown",
   "id": "6010e957",
   "metadata": {},
   "source": [
    "#### Diabetes Dataset"
   ]
  },
  {
   "cell_type": "code",
   "execution_count": 23,
   "id": "60dd84d0",
   "metadata": {},
   "outputs": [
    {
     "data": {
      "text/html": [
       "<div>\n",
       "<style scoped>\n",
       "    .dataframe tbody tr th:only-of-type {\n",
       "        vertical-align: middle;\n",
       "    }\n",
       "\n",
       "    .dataframe tbody tr th {\n",
       "        vertical-align: top;\n",
       "    }\n",
       "\n",
       "    .dataframe thead th {\n",
       "        text-align: right;\n",
       "    }\n",
       "</style>\n",
       "<table border=\"1\" class=\"dataframe\">\n",
       "  <thead>\n",
       "    <tr style=\"text-align: right;\">\n",
       "      <th></th>\n",
       "      <th>Pregnancies</th>\n",
       "      <th>Glucose</th>\n",
       "      <th>BloodPressure</th>\n",
       "      <th>SkinThickness</th>\n",
       "      <th>Insulin</th>\n",
       "      <th>BMI</th>\n",
       "      <th>DiabetesPedigreeFunction</th>\n",
       "      <th>Age</th>\n",
       "      <th>Outcome</th>\n",
       "    </tr>\n",
       "  </thead>\n",
       "  <tbody>\n",
       "    <tr>\n",
       "      <th>0</th>\n",
       "      <td>6</td>\n",
       "      <td>148</td>\n",
       "      <td>72</td>\n",
       "      <td>35</td>\n",
       "      <td>0</td>\n",
       "      <td>33.6</td>\n",
       "      <td>0.627</td>\n",
       "      <td>50</td>\n",
       "      <td>1</td>\n",
       "    </tr>\n",
       "    <tr>\n",
       "      <th>1</th>\n",
       "      <td>1</td>\n",
       "      <td>85</td>\n",
       "      <td>66</td>\n",
       "      <td>29</td>\n",
       "      <td>0</td>\n",
       "      <td>26.6</td>\n",
       "      <td>0.351</td>\n",
       "      <td>31</td>\n",
       "      <td>0</td>\n",
       "    </tr>\n",
       "    <tr>\n",
       "      <th>2</th>\n",
       "      <td>8</td>\n",
       "      <td>183</td>\n",
       "      <td>64</td>\n",
       "      <td>0</td>\n",
       "      <td>0</td>\n",
       "      <td>23.3</td>\n",
       "      <td>0.672</td>\n",
       "      <td>32</td>\n",
       "      <td>1</td>\n",
       "    </tr>\n",
       "    <tr>\n",
       "      <th>3</th>\n",
       "      <td>1</td>\n",
       "      <td>89</td>\n",
       "      <td>66</td>\n",
       "      <td>23</td>\n",
       "      <td>94</td>\n",
       "      <td>28.1</td>\n",
       "      <td>0.167</td>\n",
       "      <td>21</td>\n",
       "      <td>0</td>\n",
       "    </tr>\n",
       "    <tr>\n",
       "      <th>4</th>\n",
       "      <td>0</td>\n",
       "      <td>137</td>\n",
       "      <td>40</td>\n",
       "      <td>35</td>\n",
       "      <td>168</td>\n",
       "      <td>43.1</td>\n",
       "      <td>2.288</td>\n",
       "      <td>33</td>\n",
       "      <td>1</td>\n",
       "    </tr>\n",
       "    <tr>\n",
       "      <th>5</th>\n",
       "      <td>5</td>\n",
       "      <td>116</td>\n",
       "      <td>74</td>\n",
       "      <td>0</td>\n",
       "      <td>0</td>\n",
       "      <td>25.6</td>\n",
       "      <td>0.201</td>\n",
       "      <td>30</td>\n",
       "      <td>0</td>\n",
       "    </tr>\n",
       "    <tr>\n",
       "      <th>6</th>\n",
       "      <td>3</td>\n",
       "      <td>78</td>\n",
       "      <td>50</td>\n",
       "      <td>32</td>\n",
       "      <td>88</td>\n",
       "      <td>31.0</td>\n",
       "      <td>0.248</td>\n",
       "      <td>26</td>\n",
       "      <td>1</td>\n",
       "    </tr>\n",
       "    <tr>\n",
       "      <th>7</th>\n",
       "      <td>10</td>\n",
       "      <td>115</td>\n",
       "      <td>0</td>\n",
       "      <td>0</td>\n",
       "      <td>0</td>\n",
       "      <td>35.3</td>\n",
       "      <td>0.134</td>\n",
       "      <td>29</td>\n",
       "      <td>0</td>\n",
       "    </tr>\n",
       "    <tr>\n",
       "      <th>8</th>\n",
       "      <td>2</td>\n",
       "      <td>197</td>\n",
       "      <td>70</td>\n",
       "      <td>45</td>\n",
       "      <td>543</td>\n",
       "      <td>30.5</td>\n",
       "      <td>0.158</td>\n",
       "      <td>53</td>\n",
       "      <td>1</td>\n",
       "    </tr>\n",
       "    <tr>\n",
       "      <th>9</th>\n",
       "      <td>8</td>\n",
       "      <td>125</td>\n",
       "      <td>96</td>\n",
       "      <td>0</td>\n",
       "      <td>0</td>\n",
       "      <td>0.0</td>\n",
       "      <td>0.232</td>\n",
       "      <td>54</td>\n",
       "      <td>1</td>\n",
       "    </tr>\n",
       "  </tbody>\n",
       "</table>\n",
       "</div>"
      ],
      "text/plain": [
       "   Pregnancies  Glucose  BloodPressure  SkinThickness  Insulin   BMI  \\\n",
       "0            6      148             72             35        0  33.6   \n",
       "1            1       85             66             29        0  26.6   \n",
       "2            8      183             64              0        0  23.3   \n",
       "3            1       89             66             23       94  28.1   \n",
       "4            0      137             40             35      168  43.1   \n",
       "5            5      116             74              0        0  25.6   \n",
       "6            3       78             50             32       88  31.0   \n",
       "7           10      115              0              0        0  35.3   \n",
       "8            2      197             70             45      543  30.5   \n",
       "9            8      125             96              0        0   0.0   \n",
       "\n",
       "   DiabetesPedigreeFunction  Age  Outcome  \n",
       "0                     0.627   50        1  \n",
       "1                     0.351   31        0  \n",
       "2                     0.672   32        1  \n",
       "3                     0.167   21        0  \n",
       "4                     2.288   33        1  \n",
       "5                     0.201   30        0  \n",
       "6                     0.248   26        1  \n",
       "7                     0.134   29        0  \n",
       "8                     0.158   53        1  \n",
       "9                     0.232   54        1  "
      ]
     },
     "execution_count": 23,
     "metadata": {},
     "output_type": "execute_result"
    }
   ],
   "source": [
    "# displaying the first 10 records\n",
    "df.head(10)"
   ]
  },
  {
   "cell_type": "code",
   "execution_count": 24,
   "id": "bf55addb",
   "metadata": {},
   "outputs": [
    {
     "data": {
      "text/html": [
       "<div>\n",
       "<style scoped>\n",
       "    .dataframe tbody tr th:only-of-type {\n",
       "        vertical-align: middle;\n",
       "    }\n",
       "\n",
       "    .dataframe tbody tr th {\n",
       "        vertical-align: top;\n",
       "    }\n",
       "\n",
       "    .dataframe thead th {\n",
       "        text-align: right;\n",
       "    }\n",
       "</style>\n",
       "<table border=\"1\" class=\"dataframe\">\n",
       "  <thead>\n",
       "    <tr style=\"text-align: right;\">\n",
       "      <th></th>\n",
       "      <th>Pregnancies</th>\n",
       "      <th>Glucose</th>\n",
       "      <th>BloodPressure</th>\n",
       "      <th>SkinThickness</th>\n",
       "      <th>Insulin</th>\n",
       "      <th>BMI</th>\n",
       "      <th>DiabetesPedigreeFunction</th>\n",
       "      <th>Age</th>\n",
       "      <th>Outcome</th>\n",
       "    </tr>\n",
       "  </thead>\n",
       "  <tbody>\n",
       "    <tr>\n",
       "      <th>763</th>\n",
       "      <td>10</td>\n",
       "      <td>101</td>\n",
       "      <td>76</td>\n",
       "      <td>48</td>\n",
       "      <td>180</td>\n",
       "      <td>32.9</td>\n",
       "      <td>0.171</td>\n",
       "      <td>63</td>\n",
       "      <td>0</td>\n",
       "    </tr>\n",
       "    <tr>\n",
       "      <th>764</th>\n",
       "      <td>2</td>\n",
       "      <td>122</td>\n",
       "      <td>70</td>\n",
       "      <td>27</td>\n",
       "      <td>0</td>\n",
       "      <td>36.8</td>\n",
       "      <td>0.340</td>\n",
       "      <td>27</td>\n",
       "      <td>0</td>\n",
       "    </tr>\n",
       "    <tr>\n",
       "      <th>765</th>\n",
       "      <td>5</td>\n",
       "      <td>121</td>\n",
       "      <td>72</td>\n",
       "      <td>23</td>\n",
       "      <td>112</td>\n",
       "      <td>26.2</td>\n",
       "      <td>0.245</td>\n",
       "      <td>30</td>\n",
       "      <td>0</td>\n",
       "    </tr>\n",
       "    <tr>\n",
       "      <th>766</th>\n",
       "      <td>1</td>\n",
       "      <td>126</td>\n",
       "      <td>60</td>\n",
       "      <td>0</td>\n",
       "      <td>0</td>\n",
       "      <td>30.1</td>\n",
       "      <td>0.349</td>\n",
       "      <td>47</td>\n",
       "      <td>1</td>\n",
       "    </tr>\n",
       "    <tr>\n",
       "      <th>767</th>\n",
       "      <td>1</td>\n",
       "      <td>93</td>\n",
       "      <td>70</td>\n",
       "      <td>31</td>\n",
       "      <td>0</td>\n",
       "      <td>30.4</td>\n",
       "      <td>0.315</td>\n",
       "      <td>23</td>\n",
       "      <td>0</td>\n",
       "    </tr>\n",
       "  </tbody>\n",
       "</table>\n",
       "</div>"
      ],
      "text/plain": [
       "     Pregnancies  Glucose  BloodPressure  SkinThickness  Insulin   BMI  \\\n",
       "763           10      101             76             48      180  32.9   \n",
       "764            2      122             70             27        0  36.8   \n",
       "765            5      121             72             23      112  26.2   \n",
       "766            1      126             60              0        0  30.1   \n",
       "767            1       93             70             31        0  30.4   \n",
       "\n",
       "     DiabetesPedigreeFunction  Age  Outcome  \n",
       "763                     0.171   63        0  \n",
       "764                     0.340   27        0  \n",
       "765                     0.245   30        0  \n",
       "766                     0.349   47        1  \n",
       "767                     0.315   23        0  "
      ]
     },
     "execution_count": 24,
     "metadata": {},
     "output_type": "execute_result"
    }
   ],
   "source": [
    "# displaying the last 5 records\n",
    "df.tail()"
   ]
  },
  {
   "cell_type": "code",
   "execution_count": 25,
   "id": "6d5b31d3",
   "metadata": {},
   "outputs": [
    {
     "data": {
      "text/html": [
       "<div>\n",
       "<style scoped>\n",
       "    .dataframe tbody tr th:only-of-type {\n",
       "        vertical-align: middle;\n",
       "    }\n",
       "\n",
       "    .dataframe tbody tr th {\n",
       "        vertical-align: top;\n",
       "    }\n",
       "\n",
       "    .dataframe thead th {\n",
       "        text-align: right;\n",
       "    }\n",
       "</style>\n",
       "<table border=\"1\" class=\"dataframe\">\n",
       "  <thead>\n",
       "    <tr style=\"text-align: right;\">\n",
       "      <th></th>\n",
       "      <th>Pregnancies</th>\n",
       "      <th>Glucose</th>\n",
       "      <th>BloodPressure</th>\n",
       "      <th>SkinThickness</th>\n",
       "      <th>Insulin</th>\n",
       "      <th>BMI</th>\n",
       "      <th>DiabetesPedigreeFunction</th>\n",
       "      <th>Age</th>\n",
       "      <th>Outcome</th>\n",
       "    </tr>\n",
       "  </thead>\n",
       "  <tbody>\n",
       "    <tr>\n",
       "      <th>315</th>\n",
       "      <td>2</td>\n",
       "      <td>112</td>\n",
       "      <td>68</td>\n",
       "      <td>22</td>\n",
       "      <td>94</td>\n",
       "      <td>34.1</td>\n",
       "      <td>0.315</td>\n",
       "      <td>26</td>\n",
       "      <td>0</td>\n",
       "    </tr>\n",
       "    <tr>\n",
       "      <th>477</th>\n",
       "      <td>7</td>\n",
       "      <td>114</td>\n",
       "      <td>76</td>\n",
       "      <td>17</td>\n",
       "      <td>110</td>\n",
       "      <td>23.8</td>\n",
       "      <td>0.466</td>\n",
       "      <td>31</td>\n",
       "      <td>0</td>\n",
       "    </tr>\n",
       "    <tr>\n",
       "      <th>493</th>\n",
       "      <td>4</td>\n",
       "      <td>125</td>\n",
       "      <td>70</td>\n",
       "      <td>18</td>\n",
       "      <td>122</td>\n",
       "      <td>28.9</td>\n",
       "      <td>1.144</td>\n",
       "      <td>45</td>\n",
       "      <td>1</td>\n",
       "    </tr>\n",
       "    <tr>\n",
       "      <th>248</th>\n",
       "      <td>9</td>\n",
       "      <td>124</td>\n",
       "      <td>70</td>\n",
       "      <td>33</td>\n",
       "      <td>402</td>\n",
       "      <td>35.4</td>\n",
       "      <td>0.282</td>\n",
       "      <td>34</td>\n",
       "      <td>0</td>\n",
       "    </tr>\n",
       "    <tr>\n",
       "      <th>121</th>\n",
       "      <td>6</td>\n",
       "      <td>111</td>\n",
       "      <td>64</td>\n",
       "      <td>39</td>\n",
       "      <td>0</td>\n",
       "      <td>34.2</td>\n",
       "      <td>0.260</td>\n",
       "      <td>24</td>\n",
       "      <td>0</td>\n",
       "    </tr>\n",
       "    <tr>\n",
       "      <th>247</th>\n",
       "      <td>0</td>\n",
       "      <td>165</td>\n",
       "      <td>90</td>\n",
       "      <td>33</td>\n",
       "      <td>680</td>\n",
       "      <td>52.3</td>\n",
       "      <td>0.427</td>\n",
       "      <td>23</td>\n",
       "      <td>0</td>\n",
       "    </tr>\n",
       "    <tr>\n",
       "      <th>332</th>\n",
       "      <td>1</td>\n",
       "      <td>180</td>\n",
       "      <td>0</td>\n",
       "      <td>0</td>\n",
       "      <td>0</td>\n",
       "      <td>43.3</td>\n",
       "      <td>0.282</td>\n",
       "      <td>41</td>\n",
       "      <td>1</td>\n",
       "    </tr>\n",
       "    <tr>\n",
       "      <th>379</th>\n",
       "      <td>0</td>\n",
       "      <td>93</td>\n",
       "      <td>100</td>\n",
       "      <td>39</td>\n",
       "      <td>72</td>\n",
       "      <td>43.4</td>\n",
       "      <td>1.021</td>\n",
       "      <td>35</td>\n",
       "      <td>0</td>\n",
       "    </tr>\n",
       "    <tr>\n",
       "      <th>342</th>\n",
       "      <td>1</td>\n",
       "      <td>0</td>\n",
       "      <td>68</td>\n",
       "      <td>35</td>\n",
       "      <td>0</td>\n",
       "      <td>32.0</td>\n",
       "      <td>0.389</td>\n",
       "      <td>22</td>\n",
       "      <td>0</td>\n",
       "    </tr>\n",
       "    <tr>\n",
       "      <th>533</th>\n",
       "      <td>6</td>\n",
       "      <td>91</td>\n",
       "      <td>0</td>\n",
       "      <td>0</td>\n",
       "      <td>0</td>\n",
       "      <td>29.8</td>\n",
       "      <td>0.501</td>\n",
       "      <td>31</td>\n",
       "      <td>0</td>\n",
       "    </tr>\n",
       "  </tbody>\n",
       "</table>\n",
       "</div>"
      ],
      "text/plain": [
       "     Pregnancies  Glucose  BloodPressure  SkinThickness  Insulin   BMI  \\\n",
       "315            2      112             68             22       94  34.1   \n",
       "477            7      114             76             17      110  23.8   \n",
       "493            4      125             70             18      122  28.9   \n",
       "248            9      124             70             33      402  35.4   \n",
       "121            6      111             64             39        0  34.2   \n",
       "247            0      165             90             33      680  52.3   \n",
       "332            1      180              0              0        0  43.3   \n",
       "379            0       93            100             39       72  43.4   \n",
       "342            1        0             68             35        0  32.0   \n",
       "533            6       91              0              0        0  29.8   \n",
       "\n",
       "     DiabetesPedigreeFunction  Age  Outcome  \n",
       "315                     0.315   26        0  \n",
       "477                     0.466   31        0  \n",
       "493                     1.144   45        1  \n",
       "248                     0.282   34        0  \n",
       "121                     0.260   24        0  \n",
       "247                     0.427   23        0  \n",
       "332                     0.282   41        1  \n",
       "379                     1.021   35        0  \n",
       "342                     0.389   22        0  \n",
       "533                     0.501   31        0  "
      ]
     },
     "execution_count": 25,
     "metadata": {},
     "output_type": "execute_result"
    }
   ],
   "source": [
    "# displaying randomly any number of record of data\n",
    "df.sample(10)"
   ]
  },
  {
   "cell_type": "markdown",
   "id": "77a43709",
   "metadata": {},
   "source": [
    "### b. The shape of the dataset \n",
    "The shape() function gives us the number of rows and Columns in the dataset"
   ]
  },
  {
   "cell_type": "code",
   "execution_count": 26,
   "id": "0c86a962",
   "metadata": {},
   "outputs": [
    {
     "data": {
      "text/plain": [
       "(768, 9)"
      ]
     },
     "execution_count": 26,
     "metadata": {},
     "output_type": "execute_result"
    }
   ],
   "source": [
    "df.shape"
   ]
  },
  {
   "cell_type": "markdown",
   "id": "554dec03",
   "metadata": {},
   "source": [
    "    Number of rows = 768\n",
    "    Number of columns = 9"
   ]
  },
  {
   "cell_type": "markdown",
   "id": "77f5f1fa",
   "metadata": {},
   "source": [
    "### c. List types of all columns\n",
    "Using df.dtypes, we get the list of types of all the columns in the dataset."
   ]
  },
  {
   "cell_type": "code",
   "execution_count": 27,
   "id": "8c25da2a",
   "metadata": {},
   "outputs": [
    {
     "data": {
      "text/plain": [
       "Pregnancies                   int64\n",
       "Glucose                       int64\n",
       "BloodPressure                 int64\n",
       "SkinThickness                 int64\n",
       "Insulin                       int64\n",
       "BMI                         float64\n",
       "DiabetesPedigreeFunction    float64\n",
       "Age                           int64\n",
       "Outcome                       int64\n",
       "dtype: object"
      ]
     },
     "execution_count": 27,
     "metadata": {},
     "output_type": "execute_result"
    }
   ],
   "source": [
    "# List the data type of all columns\n",
    "df.dtypes"
   ]
  },
  {
   "cell_type": "markdown",
   "id": "72ed8c35",
   "metadata": {},
   "source": [
    "### d. Info of the dataset\n",
    "info() is used to check the information about the data and the datatypes of each respective attribute."
   ]
  },
  {
   "cell_type": "code",
   "execution_count": 28,
   "id": "ed25be0e",
   "metadata": {},
   "outputs": [
    {
     "name": "stdout",
     "output_type": "stream",
     "text": [
      "<class 'pandas.core.frame.DataFrame'>\n",
      "RangeIndex: 768 entries, 0 to 767\n",
      "Data columns (total 9 columns):\n",
      " #   Column                    Non-Null Count  Dtype  \n",
      "---  ------                    --------------  -----  \n",
      " 0   Pregnancies               768 non-null    int64  \n",
      " 1   Glucose                   768 non-null    int64  \n",
      " 2   BloodPressure             768 non-null    int64  \n",
      " 3   SkinThickness             768 non-null    int64  \n",
      " 4   Insulin                   768 non-null    int64  \n",
      " 5   BMI                       768 non-null    float64\n",
      " 6   DiabetesPedigreeFunction  768 non-null    float64\n",
      " 7   Age                       768 non-null    int64  \n",
      " 8   Outcome                   768 non-null    int64  \n",
      "dtypes: float64(2), int64(7)\n",
      "memory usage: 54.1 KB\n"
     ]
    }
   ],
   "source": [
    "# Finding out if the dataset contains any null value\n",
    "df.info()"
   ]
  },
  {
   "cell_type": "markdown",
   "id": "3627d538",
   "metadata": {},
   "source": [
    "### e. Summary of the dataset\n",
    "This method will help to see how data has been spread for numerical values. We can clearly see the minimum value, mean values, different percentile values, and maximum values."
   ]
  },
  {
   "cell_type": "code",
   "execution_count": 29,
   "id": "89cb2c58",
   "metadata": {},
   "outputs": [
    {
     "data": {
      "text/html": [
       "<div>\n",
       "<style scoped>\n",
       "    .dataframe tbody tr th:only-of-type {\n",
       "        vertical-align: middle;\n",
       "    }\n",
       "\n",
       "    .dataframe tbody tr th {\n",
       "        vertical-align: top;\n",
       "    }\n",
       "\n",
       "    .dataframe thead th {\n",
       "        text-align: right;\n",
       "    }\n",
       "</style>\n",
       "<table border=\"1\" class=\"dataframe\">\n",
       "  <thead>\n",
       "    <tr style=\"text-align: right;\">\n",
       "      <th></th>\n",
       "      <th>Pregnancies</th>\n",
       "      <th>Glucose</th>\n",
       "      <th>BloodPressure</th>\n",
       "      <th>SkinThickness</th>\n",
       "      <th>Insulin</th>\n",
       "      <th>BMI</th>\n",
       "      <th>DiabetesPedigreeFunction</th>\n",
       "      <th>Age</th>\n",
       "      <th>Outcome</th>\n",
       "    </tr>\n",
       "  </thead>\n",
       "  <tbody>\n",
       "    <tr>\n",
       "      <th>count</th>\n",
       "      <td>768.000000</td>\n",
       "      <td>768.000000</td>\n",
       "      <td>768.000000</td>\n",
       "      <td>768.000000</td>\n",
       "      <td>768.000000</td>\n",
       "      <td>768.000000</td>\n",
       "      <td>768.000000</td>\n",
       "      <td>768.000000</td>\n",
       "      <td>768.000000</td>\n",
       "    </tr>\n",
       "    <tr>\n",
       "      <th>mean</th>\n",
       "      <td>3.845052</td>\n",
       "      <td>120.894531</td>\n",
       "      <td>69.105469</td>\n",
       "      <td>20.536458</td>\n",
       "      <td>79.799479</td>\n",
       "      <td>31.992578</td>\n",
       "      <td>0.471876</td>\n",
       "      <td>33.240885</td>\n",
       "      <td>0.348958</td>\n",
       "    </tr>\n",
       "    <tr>\n",
       "      <th>std</th>\n",
       "      <td>3.369578</td>\n",
       "      <td>31.972618</td>\n",
       "      <td>19.355807</td>\n",
       "      <td>15.952218</td>\n",
       "      <td>115.244002</td>\n",
       "      <td>7.884160</td>\n",
       "      <td>0.331329</td>\n",
       "      <td>11.760232</td>\n",
       "      <td>0.476951</td>\n",
       "    </tr>\n",
       "    <tr>\n",
       "      <th>min</th>\n",
       "      <td>0.000000</td>\n",
       "      <td>0.000000</td>\n",
       "      <td>0.000000</td>\n",
       "      <td>0.000000</td>\n",
       "      <td>0.000000</td>\n",
       "      <td>0.000000</td>\n",
       "      <td>0.078000</td>\n",
       "      <td>21.000000</td>\n",
       "      <td>0.000000</td>\n",
       "    </tr>\n",
       "    <tr>\n",
       "      <th>25%</th>\n",
       "      <td>1.000000</td>\n",
       "      <td>99.000000</td>\n",
       "      <td>62.000000</td>\n",
       "      <td>0.000000</td>\n",
       "      <td>0.000000</td>\n",
       "      <td>27.300000</td>\n",
       "      <td>0.243750</td>\n",
       "      <td>24.000000</td>\n",
       "      <td>0.000000</td>\n",
       "    </tr>\n",
       "    <tr>\n",
       "      <th>50%</th>\n",
       "      <td>3.000000</td>\n",
       "      <td>117.000000</td>\n",
       "      <td>72.000000</td>\n",
       "      <td>23.000000</td>\n",
       "      <td>30.500000</td>\n",
       "      <td>32.000000</td>\n",
       "      <td>0.372500</td>\n",
       "      <td>29.000000</td>\n",
       "      <td>0.000000</td>\n",
       "    </tr>\n",
       "    <tr>\n",
       "      <th>75%</th>\n",
       "      <td>6.000000</td>\n",
       "      <td>140.250000</td>\n",
       "      <td>80.000000</td>\n",
       "      <td>32.000000</td>\n",
       "      <td>127.250000</td>\n",
       "      <td>36.600000</td>\n",
       "      <td>0.626250</td>\n",
       "      <td>41.000000</td>\n",
       "      <td>1.000000</td>\n",
       "    </tr>\n",
       "    <tr>\n",
       "      <th>max</th>\n",
       "      <td>17.000000</td>\n",
       "      <td>199.000000</td>\n",
       "      <td>122.000000</td>\n",
       "      <td>99.000000</td>\n",
       "      <td>846.000000</td>\n",
       "      <td>67.100000</td>\n",
       "      <td>2.420000</td>\n",
       "      <td>81.000000</td>\n",
       "      <td>1.000000</td>\n",
       "    </tr>\n",
       "  </tbody>\n",
       "</table>\n",
       "</div>"
      ],
      "text/plain": [
       "       Pregnancies     Glucose  BloodPressure  SkinThickness     Insulin  \\\n",
       "count   768.000000  768.000000     768.000000     768.000000  768.000000   \n",
       "mean      3.845052  120.894531      69.105469      20.536458   79.799479   \n",
       "std       3.369578   31.972618      19.355807      15.952218  115.244002   \n",
       "min       0.000000    0.000000       0.000000       0.000000    0.000000   \n",
       "25%       1.000000   99.000000      62.000000       0.000000    0.000000   \n",
       "50%       3.000000  117.000000      72.000000      23.000000   30.500000   \n",
       "75%       6.000000  140.250000      80.000000      32.000000  127.250000   \n",
       "max      17.000000  199.000000     122.000000      99.000000  846.000000   \n",
       "\n",
       "              BMI  DiabetesPedigreeFunction         Age     Outcome  \n",
       "count  768.000000                768.000000  768.000000  768.000000  \n",
       "mean    31.992578                  0.471876   33.240885    0.348958  \n",
       "std      7.884160                  0.331329   11.760232    0.476951  \n",
       "min      0.000000                  0.078000   21.000000    0.000000  \n",
       "25%     27.300000                  0.243750   24.000000    0.000000  \n",
       "50%     32.000000                  0.372500   29.000000    0.000000  \n",
       "75%     36.600000                  0.626250   41.000000    1.000000  \n",
       "max     67.100000                  2.420000   81.000000    1.000000  "
      ]
     },
     "execution_count": 29,
     "metadata": {},
     "output_type": "execute_result"
    }
   ],
   "source": [
    "# Statistical summary\n",
    "df.describe()"
   ]
  },
  {
   "cell_type": "markdown",
   "id": "81a3d8cb",
   "metadata": {},
   "source": [
    "### 2. Data Cleaning\n"
   ]
  },
  {
   "cell_type": "markdown",
   "id": "74f92349",
   "metadata": {},
   "source": [
    "### a. Drop the duplicates\n",
    "Check if duplicate rows exist or not, if they exist, then they should be removed from the dataframe. "
   ]
  },
  {
   "cell_type": "code",
   "execution_count": 30,
   "id": "6e79494b",
   "metadata": {},
   "outputs": [
    {
     "data": {
      "text/plain": [
       "(768, 9)"
      ]
     },
     "execution_count": 30,
     "metadata": {},
     "output_type": "execute_result"
    }
   ],
   "source": [
    "# Check the shape before checking for duplicates\n",
    "df.shape"
   ]
  },
  {
   "cell_type": "code",
   "execution_count": 31,
   "id": "eed1c6b0",
   "metadata": {},
   "outputs": [],
   "source": [
    "df = df.drop_duplicates()"
   ]
  },
  {
   "cell_type": "code",
   "execution_count": 32,
   "id": "08ca6f07",
   "metadata": {},
   "outputs": [
    {
     "data": {
      "text/plain": [
       "(768, 9)"
      ]
     },
     "execution_count": 32,
     "metadata": {},
     "output_type": "execute_result"
    }
   ],
   "source": [
    "#Check the shape after dropping the duplicates\n",
    "df.shape"
   ]
  },
  {
   "cell_type": "markdown",
   "id": "d5a51527",
   "metadata": {},
   "source": [
    "### \n",
    "Before and after dropping the duplicates, the dataset has the same shape which means that there are no duplicates in the dataset. "
   ]
  },
  {
   "cell_type": "markdown",
   "id": "bf6a9c30",
   "metadata": {},
   "source": [
    "### b. Check the NULL Values\n",
    "Using the isnull.sum() function we can see the null values present in every column in the dataset."
   ]
  },
  {
   "cell_type": "code",
   "execution_count": 33,
   "id": "aa55ad15",
   "metadata": {},
   "outputs": [
    {
     "data": {
      "text/plain": [
       "Pregnancies                 0\n",
       "Glucose                     0\n",
       "BloodPressure               0\n",
       "SkinThickness               0\n",
       "Insulin                     0\n",
       "BMI                         0\n",
       "DiabetesPedigreeFunction    0\n",
       "Age                         0\n",
       "Outcome                     0\n",
       "dtype: int64"
      ]
     },
     "execution_count": 33,
     "metadata": {},
     "output_type": "execute_result"
    }
   ],
   "source": [
    "# Count of null values\n",
    "# Check the missing values in any column\n",
    "df.isnull().sum()"
   ]
  },
  {
   "cell_type": "markdown",
   "id": "47c62eb7",
   "metadata": {},
   "source": [
    "There are no NULL values in the given dataset."
   ]
  },
  {
   "cell_type": "code",
   "execution_count": 34,
   "id": "bdd901fd",
   "metadata": {},
   "outputs": [
    {
     "data": {
      "text/plain": [
       "Index(['Pregnancies', 'Glucose', 'BloodPressure', 'SkinThickness', 'Insulin',\n",
       "       'BMI', 'DiabetesPedigreeFunction', 'Age', 'Outcome'],\n",
       "      dtype='object')"
      ]
     },
     "execution_count": 34,
     "metadata": {},
     "output_type": "execute_result"
    }
   ],
   "source": [
    "df.columns"
   ]
  },
  {
   "cell_type": "markdown",
   "id": "bf7063d9",
   "metadata": {},
   "source": [
    "### Check for the number of zero values in the dataset"
   ]
  },
  {
   "cell_type": "code",
   "execution_count": 35,
   "id": "fad2748a",
   "metadata": {},
   "outputs": [
    {
     "name": "stdout",
     "output_type": "stream",
     "text": [
      "Number of zero values in  Pregnancies 111\n",
      "Number of zero values in  Glucose 5\n",
      "Number of zero values in  BloodPressure 35\n",
      "Number of zero values in  SkinThickness 227\n",
      "Number of zero values in  Insulin 374\n",
      "Number of zero values in  BMI 11\n",
      "Number of zero values in  DiabetesPedigreeFunction 0\n",
      "Number of zero values in  Age 0\n"
     ]
    }
   ],
   "source": [
    "# Check for the number of zero values in the dataset\n",
    "col=df.columns[:-1]\n",
    "for i in col:\n",
    "    print(f'Number of zero values in ', i , df[df[i] == 0].shape[0])"
   ]
  },
  {
   "cell_type": "code",
   "execution_count": 36,
   "id": "7f6c478d",
   "metadata": {
    "scrolled": true
   },
   "outputs": [
    {
     "data": {
      "text/html": [
       "<div>\n",
       "<style scoped>\n",
       "    .dataframe tbody tr th:only-of-type {\n",
       "        vertical-align: middle;\n",
       "    }\n",
       "\n",
       "    .dataframe tbody tr th {\n",
       "        vertical-align: top;\n",
       "    }\n",
       "\n",
       "    .dataframe thead th {\n",
       "        text-align: right;\n",
       "    }\n",
       "</style>\n",
       "<table border=\"1\" class=\"dataframe\">\n",
       "  <thead>\n",
       "    <tr style=\"text-align: right;\">\n",
       "      <th></th>\n",
       "      <th>Pregnancies</th>\n",
       "      <th>Glucose</th>\n",
       "      <th>BloodPressure</th>\n",
       "      <th>SkinThickness</th>\n",
       "      <th>Insulin</th>\n",
       "      <th>BMI</th>\n",
       "      <th>DiabetesPedigreeFunction</th>\n",
       "      <th>Age</th>\n",
       "      <th>Outcome</th>\n",
       "    </tr>\n",
       "  </thead>\n",
       "  <tbody>\n",
       "    <tr>\n",
       "      <th>count</th>\n",
       "      <td>768.000000</td>\n",
       "      <td>768.000000</td>\n",
       "      <td>768.000000</td>\n",
       "      <td>768.000000</td>\n",
       "      <td>768.000000</td>\n",
       "      <td>768.000000</td>\n",
       "      <td>768.000000</td>\n",
       "      <td>768.000000</td>\n",
       "      <td>768.000000</td>\n",
       "    </tr>\n",
       "    <tr>\n",
       "      <th>mean</th>\n",
       "      <td>3.845052</td>\n",
       "      <td>120.894531</td>\n",
       "      <td>69.105469</td>\n",
       "      <td>20.536458</td>\n",
       "      <td>79.799479</td>\n",
       "      <td>31.992578</td>\n",
       "      <td>0.471876</td>\n",
       "      <td>33.240885</td>\n",
       "      <td>0.348958</td>\n",
       "    </tr>\n",
       "    <tr>\n",
       "      <th>std</th>\n",
       "      <td>3.369578</td>\n",
       "      <td>31.972618</td>\n",
       "      <td>19.355807</td>\n",
       "      <td>15.952218</td>\n",
       "      <td>115.244002</td>\n",
       "      <td>7.884160</td>\n",
       "      <td>0.331329</td>\n",
       "      <td>11.760232</td>\n",
       "      <td>0.476951</td>\n",
       "    </tr>\n",
       "    <tr>\n",
       "      <th>min</th>\n",
       "      <td>0.000000</td>\n",
       "      <td>0.000000</td>\n",
       "      <td>0.000000</td>\n",
       "      <td>0.000000</td>\n",
       "      <td>0.000000</td>\n",
       "      <td>0.000000</td>\n",
       "      <td>0.078000</td>\n",
       "      <td>21.000000</td>\n",
       "      <td>0.000000</td>\n",
       "    </tr>\n",
       "    <tr>\n",
       "      <th>25%</th>\n",
       "      <td>1.000000</td>\n",
       "      <td>99.000000</td>\n",
       "      <td>62.000000</td>\n",
       "      <td>0.000000</td>\n",
       "      <td>0.000000</td>\n",
       "      <td>27.300000</td>\n",
       "      <td>0.243750</td>\n",
       "      <td>24.000000</td>\n",
       "      <td>0.000000</td>\n",
       "    </tr>\n",
       "    <tr>\n",
       "      <th>50%</th>\n",
       "      <td>3.000000</td>\n",
       "      <td>117.000000</td>\n",
       "      <td>72.000000</td>\n",
       "      <td>23.000000</td>\n",
       "      <td>30.500000</td>\n",
       "      <td>32.000000</td>\n",
       "      <td>0.372500</td>\n",
       "      <td>29.000000</td>\n",
       "      <td>0.000000</td>\n",
       "    </tr>\n",
       "    <tr>\n",
       "      <th>75%</th>\n",
       "      <td>6.000000</td>\n",
       "      <td>140.250000</td>\n",
       "      <td>80.000000</td>\n",
       "      <td>32.000000</td>\n",
       "      <td>127.250000</td>\n",
       "      <td>36.600000</td>\n",
       "      <td>0.626250</td>\n",
       "      <td>41.000000</td>\n",
       "      <td>1.000000</td>\n",
       "    </tr>\n",
       "    <tr>\n",
       "      <th>max</th>\n",
       "      <td>17.000000</td>\n",
       "      <td>199.000000</td>\n",
       "      <td>122.000000</td>\n",
       "      <td>99.000000</td>\n",
       "      <td>846.000000</td>\n",
       "      <td>67.100000</td>\n",
       "      <td>2.420000</td>\n",
       "      <td>81.000000</td>\n",
       "      <td>1.000000</td>\n",
       "    </tr>\n",
       "  </tbody>\n",
       "</table>\n",
       "</div>"
      ],
      "text/plain": [
       "       Pregnancies     Glucose  BloodPressure  SkinThickness     Insulin  \\\n",
       "count   768.000000  768.000000     768.000000     768.000000  768.000000   \n",
       "mean      3.845052  120.894531      69.105469      20.536458   79.799479   \n",
       "std       3.369578   31.972618      19.355807      15.952218  115.244002   \n",
       "min       0.000000    0.000000       0.000000       0.000000    0.000000   \n",
       "25%       1.000000   99.000000      62.000000       0.000000    0.000000   \n",
       "50%       3.000000  117.000000      72.000000      23.000000   30.500000   \n",
       "75%       6.000000  140.250000      80.000000      32.000000  127.250000   \n",
       "max      17.000000  199.000000     122.000000      99.000000  846.000000   \n",
       "\n",
       "              BMI  DiabetesPedigreeFunction         Age     Outcome  \n",
       "count  768.000000                768.000000  768.000000  768.000000  \n",
       "mean    31.992578                  0.471876   33.240885    0.348958  \n",
       "std      7.884160                  0.331329   11.760232    0.476951  \n",
       "min      0.000000                  0.078000   21.000000    0.000000  \n",
       "25%     27.300000                  0.243750   24.000000    0.000000  \n",
       "50%     32.000000                  0.372500   29.000000    0.000000  \n",
       "75%     36.600000                  0.626250   41.000000    1.000000  \n",
       "max     67.100000                  2.420000   81.000000    1.000000  "
      ]
     },
     "execution_count": 36,
     "metadata": {},
     "output_type": "execute_result"
    }
   ],
   "source": [
    "df.describe()"
   ]
  },
  {
   "cell_type": "code",
   "execution_count": 37,
   "id": "38269047",
   "metadata": {
    "scrolled": true
   },
   "outputs": [
    {
     "data": {
      "text/plain": [
       "Index(['Pregnancies', 'Glucose', 'BloodPressure', 'SkinThickness', 'Insulin',\n",
       "       'BMI', 'DiabetesPedigreeFunction', 'Age', 'Outcome'],\n",
       "      dtype='object')"
      ]
     },
     "execution_count": 37,
     "metadata": {},
     "output_type": "execute_result"
    }
   ],
   "source": [
    "df.columns"
   ]
  },
  {
   "cell_type": "code",
   "execution_count": 38,
   "id": "bb5bc0bb",
   "metadata": {},
   "outputs": [
    {
     "data": {
      "image/png": "[encoded data removed]",
      "text/plain": [
       "<Figure size 640x480 with 1 Axes>"
      ]
     },
     "metadata": {},
     "output_type": "display_data"
    }
   ],
   "source": [
    "# Outliers\n",
    "plt.boxplot(df[\"Insulin\"]);"
   ]
  },
  {
   "cell_type": "code",
   "execution_count": 39,
   "id": "ac813971",
   "metadata": {},
   "outputs": [
    {
     "data": {
      "text/plain": [
       "Outcome\n",
       "0    0.651042\n",
       "1    0.348958\n",
       "Name: proportion, dtype: float64"
      ]
     },
     "execution_count": 39,
     "metadata": {},
     "output_type": "execute_result"
    }
   ],
   "source": [
    "# Baseline model\n",
    "df[\"Outcome\"].value_counts(normalize=True)"
   ]
  },
  {
   "cell_type": "markdown",
   "id": "c954482d",
   "metadata": {},
   "source": [
    "### Step 4: Data Visualization"
   ]
  },
  {
   "cell_type": "markdown",
   "id": "2e932326",
   "metadata": {},
   "source": [
    "### 1. Count plot"
   ]
  },
  {
   "cell_type": "code",
   "execution_count": 40,
   "id": "1f0d1b32",
   "metadata": {},
   "outputs": [
    {
     "ename": "TypeError",
     "evalue": "countplot() got multiple values for argument 'data'",
     "output_type": "error",
     "traceback": [
      "\u001b[1;31m---------------------------------------------------------------------------\u001b[0m",
      "\u001b[1;31mTypeError\u001b[0m                                 Traceback (most recent call last)",
      "Cell \u001b[1;32mIn[40], line 6\u001b[0m\n\u001b[0;32m      4\u001b[0m ax[\u001b[38;5;241m0\u001b[39m]\u001b[38;5;241m.\u001b[39mset_title(\u001b[38;5;124m'\u001b[39m\u001b[38;5;124mOutcome\u001b[39m\u001b[38;5;124m'\u001b[39m)\n\u001b[0;32m      5\u001b[0m ax[\u001b[38;5;241m0\u001b[39m]\u001b[38;5;241m.\u001b[39mset_ylabel(\u001b[38;5;124m'\u001b[39m\u001b[38;5;124m'\u001b[39m)\n\u001b[1;32m----> 6\u001b[0m sns\u001b[38;5;241m.\u001b[39mcountplot(\u001b[38;5;124m'\u001b[39m\u001b[38;5;124mOutcome\u001b[39m\u001b[38;5;124m'\u001b[39m, data \u001b[38;5;241m=\u001b[39m df, ax \u001b[38;5;241m=\u001b[39m ax[\u001b[38;5;241m1\u001b[39m])\n\u001b[0;32m      7\u001b[0m ax[\u001b[38;5;241m1\u001b[39m]\u001b[38;5;241m.\u001b[39mset_title(\u001b[38;5;124m'\u001b[39m\u001b[38;5;124mOutcome\u001b[39m\u001b[38;5;124m'\u001b[39m)\n\u001b[0;32m      8\u001b[0m N, P \u001b[38;5;241m=\u001b[39m df[\u001b[38;5;124m'\u001b[39m\u001b[38;5;124mOutcome\u001b[39m\u001b[38;5;124m'\u001b[39m]\u001b[38;5;241m.\u001b[39mvalue_counts()\n",
      "\u001b[1;31mTypeError\u001b[0m: countplot() got multiple values for argument 'data'"
     ]
    },
    {
     "data": {
      "image/png": "[encoded data removed]",
      "text/plain": [
       "<Figure size 1000x500 with 2 Axes>"
      ]
     },
     "metadata": {},
     "output_type": "display_data"
    }
   ],
   "source": [
    "# Outcome count plot\n",
    "f,ax = plt.subplots(1,2,figsize = (10,5))\n",
    "df['Outcome'].value_counts().plot.pie(explode = [0,0.1], autopct = '%1.1f%%', ax = ax[0], shadow = True)\n",
    "ax[0].set_title('Outcome')\n",
    "ax[0].set_ylabel('')\n",
    "sns.countplot('Outcome', data = df, ax = ax[1])\n",
    "ax[1].set_title('Outcome')\n",
    "N, P = df['Outcome'].value_counts()\n",
    "print('Negative (0): ', N)\n",
    "print('Positive (1): ', P)\n",
    "plt.grid()\n",
    "plt.show()"
   ]
  },
  {
   "cell_type": "markdown",
   "id": "2ed153c3",
   "metadata": {},
   "source": [
    "Out of total 768 people, 268 are diabetic (Positive (1)) and 500 are non-diabetic (Negative(0)).\n",
    "In the outcome column, 1 represents diabetes positive and 0 represents diabetes negative.\n",
    "The countplot tells us that the dataset is unbalanced, as the number of patients that are non-diabetic is more than the number of patients that are diabetic.\n"
   ]
  },
  {
   "cell_type": "markdown",
   "id": "2d70d4b5",
   "metadata": {},
   "source": [
    "### 2. Histograms"
   ]
  },
  {
   "cell_type": "markdown",
   "id": "bbe6e674",
   "metadata": {},
   "source": [
    "Histograms are one of the most common graphs used to display numeric data."
   ]
  },
  {
   "cell_type": "markdown",
   "id": "1691fe8c",
   "metadata": {},
   "source": [
    "Distribution of the data- Whether the data is normally distributed or if it is skewed (to the left or right)"
   ]
  },
  {
   "cell_type": "code",
   "execution_count": null,
   "id": "ce58f613",
   "metadata": {},
   "outputs": [],
   "source": [
    "# Histogram of each feature\n",
    "df.hist(bins = 10, figsize = (10,10))\n",
    "plt.show()"
   ]
  },
  {
   "cell_type": "markdown",
   "id": "d68fd789",
   "metadata": {},
   "source": [
    "### 3. Scatter Plot"
   ]
  },
  {
   "cell_type": "markdown",
   "id": "4531eba0",
   "metadata": {},
   "source": [
    "A scatterplot is a type of graph which plots the values of two variables along two axes, like age and height. Scatterplots are useful for many reasons: like corretlation matrices, it allows you to quickly understand a relationship between two variables."
   ]
  },
  {
   "cell_type": "code",
   "execution_count": null,
   "id": "79e1d11c",
   "metadata": {},
   "outputs": [],
   "source": [
    "# Scatter plot matrix\n",
    "from pandas.plotting import scatter_matrix\n",
    "scatter_matrix(df, figsize = (20, 20));"
   ]
  },
  {
   "cell_type": "markdown",
   "id": "b5d7b3b6",
   "metadata": {},
   "source": [
    "### Pairplot"
   ]
  },
  {
   "cell_type": "markdown",
   "id": "e018ef49",
   "metadata": {},
   "source": [
    "sns.pairplot() is a great way to create sactterplots between all the variables"
   ]
  },
  {
   "cell_type": "code",
   "execution_count": null,
   "id": "c25eae95",
   "metadata": {},
   "outputs": [],
   "source": [
    "# Pairplot\n",
    "sns.pairplot(data = df, hue = 'Outcome')\n",
    "plt.show()"
   ]
  },
  {
   "cell_type": "markdown",
   "id": "1c3b3c67",
   "metadata": {},
   "source": [
    "### 5. Analyzing relationships between variables"
   ]
  },
  {
   "cell_type": "markdown",
   "id": "c08b0e28",
   "metadata": {},
   "source": [
    "#### Correlation Analysis"
   ]
  },
  {
   "cell_type": "markdown",
   "id": "0705befa",
   "metadata": {},
   "source": [
    "Correlation analysis is used to quantify the degree to which two variables are related. Through the correlation analysis, we evaluate correlation co-efficient that tells us how much one variable changes when the other one does. Correlation analysis provides us with a linear relationship between two variables. When we correlate feature variables with the target variable, we get to know how much dependency there is between particular feature variables and target variable."
   ]
  },
  {
   "cell_type": "code",
   "execution_count": null,
   "id": "0532e4ec",
   "metadata": {},
   "outputs": [],
   "source": [
    "# Correlation Analysis\n",
    "import seaborn as sns\n",
    "# get correlation of each features in the dataset\n",
    "corrmat = df.corr()\n",
    "top_corr_features = corrmat.index\n",
    "plt.figure(figsize = (10, 10))\n",
    "# plot heat map\n",
    "h = sns.heatmap(df[top_corr_features].corr(), annot = True, cmap = \"RdYlGn\")"
   ]
  },
  {
   "cell_type": "markdown",
   "id": "e429e432",
   "metadata": {},
   "source": [
    "#### Observation:"
   ]
  },
  {
   "cell_type": "markdown",
   "id": "796590ec",
   "metadata": {},
   "source": [
    "From the correlation heatmap, we can see that there is a high correlation between Outcome and (Pregnancies, Glucose, BMI, Age, Insulin). We can select these features to accept input from the user and predict the outcome."
   ]
  },
  {
   "cell_type": "markdown",
   "id": "bafabd92",
   "metadata": {},
   "source": [
    "### Step 5: Split the Data Frame into A and b"
   ]
  },
  {
   "cell_type": "code",
   "execution_count": null,
   "id": "98f136f4",
   "metadata": {},
   "outputs": [],
   "source": [
    "# Split the data frame into A and b\n",
    "target_name = 'Outcome'\n",
    "\n",
    "# Separate object for target feature\n",
    "b = df[target_name]\n",
    "\n",
    "# Separate object for input features\n",
    "A = df.drop(target_name, axis = 1)"
   ]
  },
  {
   "cell_type": "markdown",
   "id": "f22b49be",
   "metadata": {},
   "source": [
    "### Step 6: Apply Feature Scaling"
   ]
  },
  {
   "cell_type": "code",
   "execution_count": null,
   "id": "558d45c6",
   "metadata": {},
   "outputs": [],
   "source": [
    "# Apply Standard Scaler\n",
    "from sklearn.preprocessing import StandardScaler\n",
    "scaler = StandardScaler()\n",
    "scaler .fit(A)\n",
    "SSA = scaler.transform(A)"
   ]
  },
  {
   "cell_type": "markdown",
   "id": "1d6ca650",
   "metadata": {},
   "source": [
    "In place of Standard Scaler, we have to try other data scaling techniques like normalizer, minimax scaler and binarizer."
   ]
  },
  {
   "cell_type": "markdown",
   "id": "810e9f81",
   "metadata": {},
   "source": [
    "### Train Test Split"
   ]
  },
  {
   "cell_type": "code",
   "execution_count": null,
   "id": "651f1bf3",
   "metadata": {},
   "outputs": [],
   "source": [
    "# Train Test Split\n",
    "from sklearn.model_selection import train_test_split\n",
    "A_train, A_test, b_train, b_test = train_test_split(SSA, b, test_size = 0.15, random_state = 7) "
   ]
  },
  {
   "cell_type": "code",
   "execution_count": null,
   "id": "0e92288c",
   "metadata": {},
   "outputs": [],
   "source": [
    "A_train.shape, b_train.shape"
   ]
  },
  {
   "cell_type": "code",
   "execution_count": null,
   "id": "4aaaffe2",
   "metadata": {},
   "outputs": [],
   "source": [
    "A_test.shape, b_test.shape"
   ]
  },
  {
   "cell_type": "markdown",
   "id": "ccf4f054",
   "metadata": {},
   "source": [
    "### Step 9: Making Prediction"
   ]
  },
  {
   "cell_type": "markdown",
   "id": "74c9d1d4",
   "metadata": {},
   "source": [
    "#### 1. Making Predition on test by using Random Forest"
   ]
  },
  {
   "cell_type": "code",
   "execution_count": null,
   "id": "6cf99f79",
   "metadata": {},
   "outputs": [],
   "source": [
    "# Making Predition on test by using Random Forest\n",
    "\n",
    "from sklearn.ensemble import RandomForestClassifier\n",
    "rf = RandomForestClassifier(criterion = 'entropy', random_state = 7)\n",
    "rf.fit(A_train, b_train)"
   ]
  },
  {
   "cell_type": "code",
   "execution_count": null,
   "id": "4a37e747",
   "metadata": {},
   "outputs": [],
   "source": [
    "rf.get_params()"
   ]
  },
  {
   "cell_type": "code",
   "execution_count": null,
   "id": "958cbe3d",
   "metadata": {},
   "outputs": [],
   "source": [
    "# Making prediction on test dataset\n",
    "rf_pred = rf.predict(A_test)"
   ]
  },
  {
   "cell_type": "code",
   "execution_count": null,
   "id": "fdfd09a0",
   "metadata": {},
   "outputs": [],
   "source": [
    "rf_pred.shape"
   ]
  },
  {
   "cell_type": "code",
   "execution_count": null,
   "id": "dc493e39",
   "metadata": {},
   "outputs": [],
   "source": [
    "# Train score and Test score of Random Forest\n",
    "from sklearn.metrics import accuracy_score\n",
    "print(\"Train Accuracy of Random Forest\", rf.score(A_train, b_train) * 100)\n",
    "print(\"Accuracy (Test) score of Random Forest\", accuracy_score(b_test, rf_pred) * 100)"
   ]
  },
  {
   "cell_type": "markdown",
   "id": "3c43b9dd",
   "metadata": {},
   "source": [
    "#### a. Confusion Matrix of  Random Forest"
   ]
  },
  {
   "cell_type": "code",
   "execution_count": null,
   "id": "308c349c",
   "metadata": {},
   "outputs": [],
   "source": [
    "# Confusion Matrix of Random Forest\n",
    "from sklearn.metrics import classification_report, confusion_matrix\n",
    "cm = confusion_matrix(b_test, rf_pred)\n",
    "cm"
   ]
  },
  {
   "cell_type": "code",
   "execution_count": null,
   "id": "5fca2019",
   "metadata": {},
   "outputs": [],
   "source": [
    "sns.heatmap(confusion_matrix(b_test, rf_pred), annot = True, fmt = \"d\")"
   ]
  },
  {
   "cell_type": "code",
   "execution_count": null,
   "id": "bda00ec7",
   "metadata": {},
   "outputs": [],
   "source": [
    "\n",
    "TN = cm[0,0]\n",
    "FP = cm[0,1]\n",
    "FN = cm[1,0]\n",
    "TP = cm[1,1]"
   ]
  },
  {
   "cell_type": "code",
   "execution_count": null,
   "id": "27bff0df",
   "metadata": {},
   "outputs": [],
   "source": [
    "# Making the Confusion Matrix of Random Forest\n",
    "from sklearn.metrics import classification_report, confusion_matrix\n",
    "from sklearn.metrics import accuracy_score, roc_auc_score, roc_curve\n",
    "cm = confusion_matrix(b_test, rf_pred)\n",
    "\n",
    "print('TN - True Negative {}'.format(cm[0,0]))\n",
    "print('FP - False Positive {}'.format(cm[0,1]))\n",
    "print('FN - False Negative {}'.format(cm[1,0]))\n",
    "print('TP - True Positive {}'.format(cm[1,0]))\n",
    "print('Accuracy Rate: {}'.format(np.divide(np.sum([cm[0,0], cm[1,1]]), np.sum(cm)) * 100))\n",
    "print('Misclassification Rate: {}'.format(np.divide(np.sum([cm[0,1], cm[1,0]]), np.sum(cm))*100))"
   ]
  },
  {
   "cell_type": "code",
   "execution_count": null,
   "id": "ddb19bee",
   "metadata": {},
   "outputs": [],
   "source": [
    "import matplotlib.pyplot as plt\n",
    "plt.clf()\n",
    "plt.imshow(cm, interpolation = 'nearest', cmap = plt.cm.Wistia)\n",
    "Class_Names = ['0','1']\n",
    "plt.title('Confusion Matrix of Random Forest')\n",
    "plt.ylabel('Actual (true) values')\n",
    "plt.xlabel('Predicted values')\n",
    "tick_marks = np. arange(len(Class_Names))\n",
    "plt.xticks(tick_marks, Class_Names, rotation = 45)\n",
    "plt.yticks(tick_marks, Class_Names)\n",
    "s = [['TN', 'FP'], ['FN', 'TP']]\n",
    "\n",
    "for i in range(2):\n",
    "    for j in range(2):\n",
    "        plt.text(j, i, str(s[i][j]) +\" = \"+ str(cm[i][j]))\n",
    "plt.show()"
   ]
  },
  {
   "cell_type": "code",
   "execution_count": null,
   "id": "46ebdfb9",
   "metadata": {},
   "outputs": [],
   "source": [
    "pd.crosstab(b_test, rf_pred, margins = False)"
   ]
  },
  {
   "cell_type": "code",
   "execution_count": null,
   "id": "aff9ba2e",
   "metadata": {},
   "outputs": [],
   "source": [
    "pd.crosstab(b_test, rf_pred, margins = True)"
   ]
  },
  {
   "cell_type": "code",
   "execution_count": null,
   "id": "02afcf2d",
   "metadata": {},
   "outputs": [],
   "source": [
    "pd.crosstab(b_test, rf_pred, rownames = ['Actual values'], colnames = ['Predicted values'], margins = True)"
   ]
  },
  {
   "cell_type": "code",
   "execution_count": null,
   "id": "823b7014",
   "metadata": {},
   "outputs": [],
   "source": [
    "Precision = TP / (TP + FP)\n",
    "Precision"
   ]
  },
  {
   "cell_type": "code",
   "execution_count": null,
   "id": "b88947a9",
   "metadata": {},
   "outputs": [],
   "source": [
    "# Print precision score\n",
    "\n",
    "Precision_Score = TP / float(TP + FP) * 100\n",
    "print('Precision Score: {0:0.4f}'.format(Precision_Score))"
   ]
  },
  {
   "cell_type": "code",
   "execution_count": null,
   "id": "ad8394d0",
   "metadata": {},
   "outputs": [],
   "source": [
    "from sklearn.metrics import precision_score\n",
    "print(\"Precision Score is: \", precision_score(b_test, rf_pred) * 100)\n",
    "print(\"Micro Average Precision Score is: \", precision_score(b_test, rf_pred, average = 'micro') * 100)\n",
    "print(\"Macro Average Precision Score is: \", precision_score(b_test, rf_pred, average = 'macro') * 100)\n",
    "print(\"Weighted Average Precision Score is: \", precision_score(b_test, rf_pred, average = 'weighted') * 100)\n",
    "print(\"Precion Score on Non-Weighted Score is: \", precision_score(b_test, rf_pred, average = None) * 100)"
   ]
  },
  {
   "cell_type": "markdown",
   "id": "862c2860",
   "metadata": {},
   "source": [
    "#### Recall"
   ]
  },
  {
   "cell_type": "code",
   "execution_count": null,
   "id": "0ce6f1b7",
   "metadata": {},
   "outputs": [],
   "source": [
    "# Recall\n",
    "recall_score = TP / float(TP + FN)\n",
    "print('recall score', recall_score)"
   ]
  },
  {
   "cell_type": "code",
   "execution_count": null,
   "id": "95b6956d",
   "metadata": {},
   "outputs": [],
   "source": [
    "from sklearn.metrics import recall_score\n",
    "print('Recall or Sensitivity_Score: ', recall_score(b_test, rf_pred) * 100)\n",
    "print(\"Micro Average Recall Score is: \", recall_score(b_test, rf_pred, average = 'micro') * 100)\n",
    "print(\"Macro Average Precision Score is: \", recall_score(b_test, rf_pred, average = 'macro') * 100)\n",
    "print(\"Weighted Average Precision Score is: \", recall_score(b_test, rf_pred, average = 'weighted') * 100)\n",
    "print(\"Recall Score on Non-Weighted Score is: \", recall_score(b_test, rf_pred, average = None) * 100)"
   ]
  },
  {
   "cell_type": "markdown",
   "id": "47bac157",
   "metadata": {},
   "source": [
    "#### Classification Report of Random Forest"
   ]
  },
  {
   "cell_type": "code",
   "execution_count": null,
   "id": "52c65d2f",
   "metadata": {},
   "outputs": [],
   "source": [
    "# Classification Report of Random Forest\n",
    "print('Classification Report of Random Forest: \\n', classification_report(b_test, rf_pred, digits = 3))"
   ]
  },
  {
   "cell_type": "markdown",
   "id": "bd433fce",
   "metadata": {},
   "source": [
    "#### 2. Making Prediction on test by using Naive Bayes"
   ]
  },
  {
   "cell_type": "code",
   "execution_count": null,
   "id": "0d296497",
   "metadata": {},
   "outputs": [],
   "source": [
    "# Making Prediction on test by using Naive Bayes\n",
    "\n",
    "from sklearn.naive_bayes import GaussianNB\n",
    "nb = GaussianNB()\n",
    "nb.fit(A_train, b_train)"
   ]
  },
  {
   "cell_type": "code",
   "execution_count": null,
   "id": "2a24af30",
   "metadata": {},
   "outputs": [],
   "source": [
    "nb_pred = nb.predict(A_test)"
   ]
  },
  {
   "cell_type": "code",
   "execution_count": null,
   "id": "c0238a36",
   "metadata": {},
   "outputs": [],
   "source": [
    "nb_pred.shape"
   ]
  },
  {
   "cell_type": "code",
   "execution_count": null,
   "id": "5d71f8ef",
   "metadata": {},
   "outputs": [],
   "source": [
    "# Train score and Test score of Naive Bayes\n",
    "from sklearn.metrics import accuracy_score\n",
    "print(\"Train Accuracy of Naive Bayes\", nb.score(A_train, b_train) * 100)\n",
    "print(\"Accuracy (Test) score of Naive Bayes\", accuracy_score(b_test, nb_pred) * 100)"
   ]
  },
  {
   "cell_type": "markdown",
   "id": "351b9c7b",
   "metadata": {},
   "source": [
    "#### b. Confusion Matrix of Naive Bayes"
   ]
  },
  {
   "cell_type": "code",
   "execution_count": null,
   "id": "b236ecf6",
   "metadata": {},
   "outputs": [],
   "source": [
    "# Confusion Matrix of Naive Bayes\n",
    "from sklearn.metrics import classification_report, confusion_matrix\n",
    "cm = confusion_matrix(b_test, nb_pred)\n",
    "cm"
   ]
  },
  {
   "cell_type": "code",
   "execution_count": null,
   "id": "20eab086",
   "metadata": {},
   "outputs": [],
   "source": [
    "sns.heatmap(confusion_matrix(b_test, nb_pred), annot = True, fmt = \"d\")"
   ]
  },
  {
   "cell_type": "code",
   "execution_count": null,
   "id": "b113b363",
   "metadata": {},
   "outputs": [],
   "source": [
    "TN = cm[0,0]\n",
    "FP = cm[0,1]\n",
    "FN = cm[1,0]\n",
    "TP = cm[1,1]"
   ]
  },
  {
   "cell_type": "code",
   "execution_count": null,
   "id": "525ed882",
   "metadata": {},
   "outputs": [],
   "source": [
    "# Making the Confusion Matrix of Naive Bayes\n",
    "from sklearn.metrics import classification_report, confusion_matrix\n",
    "from sklearn.metrics import accuracy_score, roc_auc_score, roc_curve\n",
    "cm = confusion_matrix(b_test, nb_pred)\n",
    "\n",
    "print('TN - True Negative {}'.format(cm[0,0]))\n",
    "print('FP - False Positive {}'.format(cm[0,1]))\n",
    "print('FN - False Negative {}'.format(cm[1,0]))\n",
    "print('TP - True Positive {}'.format(cm[1,1]))\n",
    "print('Accuracy Rate: {}'.format(np.divide(np.sum([cm[0,0], cm[1,1]]), np.sum(cm)) * 100))\n",
    "print('Misclassification Rate: {}'.format(np.divide(np.sum([cm[0,1], cm[1,0]]), np.sum(cm))*100))"
   ]
  },
  {
   "cell_type": "code",
   "execution_count": null,
   "id": "17f2651c",
   "metadata": {},
   "outputs": [],
   "source": [
    "import matplotlib.pyplot as plt\n",
    "plt.clf()\n",
    "plt.imshow(cm, interpolation = 'nearest', cmap = plt.cm.Wistia)\n",
    "Class_Names = ['0','1']\n",
    "plt.title('Confusion Matrix of Naive Bayes')\n",
    "plt.ylabel('Actual (true) values')\n",
    "plt.xlabel('Predicted values')\n",
    "tick_marks = np. arange(len(Class_Names))\n",
    "plt.xticks(tick_marks, Class_Names, rotation = 45)\n",
    "plt.yticks(tick_marks, Class_Names)\n",
    "s = [['TN', 'FP'], ['FN', 'TP']]\n",
    "\n",
    "for i in range(2):\n",
    "    for j in range(2):\n",
    "        plt.text(j, i, str(s[i][j]) +\" = \"+ str(cm[i][j]))\n",
    "plt.show()"
   ]
  },
  {
   "cell_type": "code",
   "execution_count": null,
   "id": "ea9090a4",
   "metadata": {},
   "outputs": [],
   "source": [
    "pd.crosstab(b_test, nb_pred, margins = False)"
   ]
  },
  {
   "cell_type": "code",
   "execution_count": null,
   "id": "e0add4fa",
   "metadata": {},
   "outputs": [],
   "source": [
    "pd.crosstab(b_test, nb_pred, margins = True)"
   ]
  },
  {
   "cell_type": "code",
   "execution_count": null,
   "id": "5256d182",
   "metadata": {},
   "outputs": [],
   "source": [
    "pd.crosstab(b_test, nb_pred, rownames = ['Actual values'], colnames = ['Predicted values'], margins = True)"
   ]
  },
  {
   "cell_type": "code",
   "execution_count": null,
   "id": "f71197b0",
   "metadata": {},
   "outputs": [],
   "source": [
    "from sklearn.metrics import f1_score\n",
    "print('f1_score of macro: ', f1_score(b_test, nb_pred) * 100)\n",
    "print(\"Micro Average F1 Score is: \", f1_score(b_test, nb_pred, average = 'micro') * 100)\n",
    "print(\"Macro Average F1 Score is: \", f1_score(b_test, nb_pred, average = 'macro') * 100)\n",
    "print(\"Weighted Average F1 Score is: \", f1_score(b_test, nb_pred, average = 'weighted') * 100)\n",
    "print(\"F1 Score on Non-Weighted Score is: \", f1_score(b_test, nb_pred, average = None) * 100)"
   ]
  },
  {
   "cell_type": "markdown",
   "id": "eeced344",
   "metadata": {},
   "source": [
    "#### Precision"
   ]
  },
  {
   "cell_type": "code",
   "execution_count": null,
   "id": "b04c3b4d",
   "metadata": {},
   "outputs": [],
   "source": [
    "# Precision\n",
    "from sklearn.metrics import precision_score\n",
    "print(\"Precision Score is: \", precision_score(b_test, nb_pred) * 100)\n",
    "print(\"Micro Average Precision Score is: \", precision_score(b_test, nb_pred, average = 'micro') * 100)\n",
    "print(\"Macro Average Precision Score is: \", precision_score(b_test, nb_pred, average = 'macro') * 100)\n",
    "print(\"Weighted Average Precision Score is: \", precision_score(b_test, nb_pred, average = 'weighted') * 100)\n",
    "print(\"Precion Score on Non-Weighted Score is: \", precision_score(b_test, nb_pred, average = None) * 100)"
   ]
  },
  {
   "cell_type": "markdown",
   "id": "21ede8e8",
   "metadata": {},
   "source": [
    "#### Recall"
   ]
  },
  {
   "cell_type": "code",
   "execution_count": null,
   "id": "46d50fb3",
   "metadata": {},
   "outputs": [],
   "source": [
    "# Recall\n",
    "recall_score = TP / float(TP + FN) * 100\n",
    "print('recall_score', recall_score)"
   ]
  },
  {
   "cell_type": "code",
   "execution_count": null,
   "id": "960fd336",
   "metadata": {},
   "outputs": [],
   "source": [
    "from sklearn.metrics import recall_score\n",
    "print('Recall or Sensitivity_Score: ', recall_score(b_test, nb_pred) * 100)\n",
    "print(\"Micro Average Recall Score is: \", recall_score(b_test, nb_pred, average = 'micro') * 100)\n",
    "print(\"Macro Average Precision Score is: \", recall_score(b_test, nb_pred, average = 'macro') * 100)\n",
    "print(\"Weighted Average Precision Score is: \", recall_score(b_test, nb_pred, average = 'weighted') * 100)\n",
    "print(\"Recall Score on Non-Weighted Score is: \", recall_score(b_test, nb_pred, average = None) * 100)"
   ]
  },
  {
   "cell_type": "markdown",
   "id": "253907ff",
   "metadata": {},
   "source": [
    "#### F1 Score"
   ]
  },
  {
   "cell_type": "code",
   "execution_count": null,
   "id": "03e24ced",
   "metadata": {},
   "outputs": [],
   "source": [
    "# F1 Score\n",
    "from sklearn.metrics import f1_score\n",
    "print('f1_score of macro: ', f1_score(b_test, nb_pred) * 100)\n",
    "print(\"Micro Average F1 Score is: \", f1_score(b_test, nb_pred, average = 'micro') * 100)\n",
    "print(\"Macro Average F1 Score is: \", f1_score(b_test, nb_pred, average = 'macro') * 100)\n",
    "print(\"Weighted Average F1 Score is: \", f1_score(b_test, nb_pred, average = 'weighted') * 100)\n",
    "print(\"F1 Score on Non-Weighted Score is: \", f1_score(b_test, nb_pred, average = None) * 100)"
   ]
  },
  {
   "cell_type": "markdown",
   "id": "9346ed59",
   "metadata": {},
   "source": [
    "### Classification Report of Naive Bayes"
   ]
  },
  {
   "cell_type": "code",
   "execution_count": null,
   "id": "8e23c95e",
   "metadata": {},
   "outputs": [],
   "source": [
    "# Classification Report of Naive Bayes\n",
    "print('Classification Report of Naive Bayes: \\n', classification_report(b_test, nb_pred, digits = 3))"
   ]
  },
  {
   "cell_type": "markdown",
   "id": "2075816f",
   "metadata": {},
   "source": [
    "#### 3. Making prediction on test by using K-Nearest neighbors"
   ]
  },
  {
   "cell_type": "code",
   "execution_count": null,
   "id": "b1f682ec",
   "metadata": {},
   "outputs": [],
   "source": [
    "# Making prediction on test by using K-Nearest neighbors\n",
    "\n",
    "from sklearn.neighbors import KNeighborsClassifier\n",
    "knn = KNeighborsClassifier()\n",
    "knn.fit(A_train, b_train)"
   ]
  },
  {
   "cell_type": "code",
   "execution_count": null,
   "id": "78c40ee5",
   "metadata": {},
   "outputs": [],
   "source": [
    "knn_pred = knn.predict(A_test)"
   ]
  },
  {
   "cell_type": "code",
   "execution_count": null,
   "id": "7464b3e1",
   "metadata": {},
   "outputs": [],
   "source": [
    "knn_pred.shape"
   ]
  },
  {
   "cell_type": "code",
   "execution_count": null,
   "id": "14c209d4",
   "metadata": {},
   "outputs": [],
   "source": [
    "# Train score and Test score of KNN\n",
    "from sklearn.metrics import accuracy_score\n",
    "print(\"Train Accuracy of KNN\", knn.score(A_train, b_train) * 100)\n",
    "print(\"Accuracy (Test) score of KNN\", accuracy_score(b_test, knn_pred) * 100)"
   ]
  },
  {
   "cell_type": "markdown",
   "id": "6c37d96e",
   "metadata": {},
   "source": [
    "#### c. Confusion Matrix of KNN"
   ]
  },
  {
   "cell_type": "code",
   "execution_count": null,
   "id": "10f9a8e0",
   "metadata": {},
   "outputs": [],
   "source": [
    "# Confusion Matrix of KNN\n",
    "from sklearn.metrics import classification_report, confusion_matrix\n",
    "cm = confusion_matrix(b_test, knn_pred)\n",
    "cm"
   ]
  },
  {
   "cell_type": "code",
   "execution_count": null,
   "id": "3d8272df",
   "metadata": {},
   "outputs": [],
   "source": [
    "sns.heatmap(confusion_matrix(b_test, knn_pred), annot = True, fmt = \"d\")"
   ]
  },
  {
   "cell_type": "code",
   "execution_count": null,
   "id": "27255142",
   "metadata": {},
   "outputs": [],
   "source": [
    "TN = cm[0,0]\n",
    "FP = cm[0,1]\n",
    "FN = cm[1,0]\n",
    "TP = cm[1,1]"
   ]
  },
  {
   "cell_type": "code",
   "execution_count": null,
   "id": "956240d9",
   "metadata": {},
   "outputs": [],
   "source": [
    "# Making the Confusion Matrix of KNN\n",
    "from sklearn.metrics import classification_report, confusion_matrix\n",
    "from sklearn.metrics import accuracy_score, roc_auc_score, roc_curve\n",
    "cm = confusion_matrix(b_test, knn_pred)\n",
    "\n",
    "print('TN - True Negative {}'.format(cm[0,0]))\n",
    "print('FP - False Positive {}'.format(cm[0,1]))\n",
    "print('FN - False Negative {}'.format(cm[1,0]))\n",
    "print('TP - True Positive {}'.format(cm[1,1]))\n",
    "print('Accuracy Rate: {}'.format(np.divide(np.sum([cm[0,0], cm[1,1]]), np.sum(cm)) * 100))\n",
    "print('Misclassification Rate: {}'.format(np.divide(np.sum([cm[0,1], cm[1,0]]), np.sum(cm))*100))"
   ]
  },
  {
   "cell_type": "code",
   "execution_count": null,
   "id": "a50d811d",
   "metadata": {},
   "outputs": [],
   "source": [
    "import matplotlib.pyplot as plt\n",
    "plt.clf()\n",
    "plt.imshow(cm, interpolation = 'nearest', cmap = plt.cm.Wistia)\n",
    "Class_Names = ['0','1']\n",
    "plt.title('Confusion Matrix of KNN')\n",
    "plt.ylabel('Actual (true) values')\n",
    "plt.xlabel('Predicted values')\n",
    "tick_marks = np. arange(len(Class_Names))\n",
    "plt.xticks(tick_marks, Class_Names, rotation = 45)\n",
    "plt.yticks(tick_marks, Class_Names)\n",
    "s = [['TN', 'FP'], ['FN', 'TP']]\n",
    "\n",
    "for i in range(2):\n",
    "    for j in range(2):\n",
    "        plt.text(j, i, str(s[i][j]) +\" = \"+ str(cm[i][j]))\n",
    "plt.show()"
   ]
  },
  {
   "cell_type": "code",
   "execution_count": null,
   "id": "6b5244ea",
   "metadata": {},
   "outputs": [],
   "source": [
    "pd.crosstab(b_test, knn_pred, margins = False)"
   ]
  },
  {
   "cell_type": "code",
   "execution_count": null,
   "id": "979c6c9d",
   "metadata": {},
   "outputs": [],
   "source": [
    "pd.crosstab(b_test, knn_pred, margins = True)"
   ]
  },
  {
   "cell_type": "code",
   "execution_count": null,
   "id": "c4e6311d",
   "metadata": {},
   "outputs": [],
   "source": [
    "pd.crosstab(b_test, knn_pred, rownames = ['Actual values'], colnames = ['Predicted values'], margins = True)"
   ]
  },
  {
   "cell_type": "markdown",
   "id": "6f8378d0",
   "metadata": {},
   "source": [
    "#### Precision Score"
   ]
  },
  {
   "cell_type": "code",
   "execution_count": null,
   "id": "da03e26d",
   "metadata": {},
   "outputs": [],
   "source": [
    "#Precision Score\n",
    "from sklearn.metrics import precision_score\n",
    "print(\"Precision Score is: \", precision_score(b_test, knn_pred) * 100)\n",
    "print(\"Micro Average Precision Score is: \", precision_score(b_test, knn_pred, average = 'micro') * 100)\n",
    "print(\"Macro Average Precision Score is: \", precision_score(b_test, knn_pred, average = 'macro') * 100)\n",
    "print(\"Weighted Average Precision Score is: \", precision_score(b_test, knn_pred, average = 'weighted') * 100)\n",
    "print(\"Precion Score on Non-Weighted Score is: \", precision_score(b_test, knn_pred, average = None) * 100)"
   ]
  },
  {
   "cell_type": "markdown",
   "id": "93dbbb31",
   "metadata": {},
   "source": [
    "#### Recall"
   ]
  },
  {
   "cell_type": "code",
   "execution_count": null,
   "id": "b9c731d6",
   "metadata": {},
   "outputs": [],
   "source": [
    "# Recall\n",
    "from sklearn.metrics import recall_score\n",
    "print('Recall or Sensitivity_Score: ', recall_score(b_test, knn_pred) * 100)\n",
    "print(\"Micro Average Recall Score is: \", recall_score(b_test, knn_pred, average = 'micro') * 100)\n",
    "print(\"Macro Average Precision Score is: \", recall_score(b_test, knn_pred, average = 'macro') * 100)\n",
    "print(\"Weighted Average Precision Score is: \", recall_score(b_test, knn_pred, average = 'weighted') * 100)\n",
    "print(\"Recall Score on Non-Weighted Score is: \", recall_score(b_test, knn_pred, average = None) * 100)"
   ]
  },
  {
   "cell_type": "markdown",
   "id": "fd33c7a8",
   "metadata": {},
   "source": [
    "#### F1 Score"
   ]
  },
  {
   "cell_type": "code",
   "execution_count": null,
   "id": "ff0010ed",
   "metadata": {},
   "outputs": [],
   "source": [
    "# F1 Score\n",
    "from sklearn.metrics import f1_score\n",
    "`print('f1_score of macro: ', f1_score(b_test, knn_pred) * 100)\n",
    "print(\"Micro Average F1 Score is: \", f1_score(b_test, knn_pred, average = 'micro') * 100)\n",
    "print(\"Macro Average F1 Score is: \", f1_score(b_test, knn_pred, average = 'macro') * 100)\n",
    "print(\"Weighted Average F1 Score is: \", f1_score(b_test, knn_pred, average = 'weighted') * 100)\n",
    "print(\"F1 Score on Non-Weighted Score is: \", f1_score(b_test, knn_pred, average = None) * 100)"
   ]
  },
  {
   "cell_type": "markdown",
   "id": "9d5081e7",
   "metadata": {},
   "source": [
    "#### Classification Report of KNN"
   ]
  },
  {
   "cell_type": "code",
   "execution_count": null,
   "id": "3f4332ee",
   "metadata": {},
   "outputs": [],
   "source": [
    "# Classification Report of KNN\n",
    "print('Classification Report of KNN: \\n', classification_report(b_test, knn_pred, digits = 3))"
   ]
  },
  {
   "cell_type": "markdown",
   "id": "73b480b2",
   "metadata": {},
   "source": [
    "#### 4. Making prediction on test by using Logistic Regression"
   ]
  },
  {
   "cell_type": "code",
   "execution_count": null,
   "id": "5401caa2",
   "metadata": {},
   "outputs": [],
   "source": [
    "# Making prediction on test by using Logistic Regression\n",
    "\n",
    "from sklearn.linear_model import LogisticRegression\n",
    "lr = LogisticRegression(solver = 'liblinear', multi_class ='ovr')\n",
    "lr.fit(A_train, b_train)"
   ]
  },
  {
   "cell_type": "code",
   "execution_count": null,
   "id": "a6411e8e",
   "metadata": {},
   "outputs": [],
   "source": [
    "lr_pred = lr.predict(A_test)"
   ]
  },
  {
   "cell_type": "code",
   "execution_count": null,
   "id": "5b4e3605",
   "metadata": {},
   "outputs": [],
   "source": [
    "lr_pred.shape"
   ]
  },
  {
   "cell_type": "code",
   "execution_count": 8,
   "id": "438e8c4d",
   "metadata": {},
   "outputs": [
    {
     "ename": "NameError",
     "evalue": "name 'lr' is not defined",
     "output_type": "error",
     "traceback": [
      "\u001b[1;31m---------------------------------------------------------------------------\u001b[0m",
      "\u001b[1;31mNameError\u001b[0m                                 Traceback (most recent call last)",
      "Cell \u001b[1;32mIn[8], line 2\u001b[0m\n\u001b[0;32m      1\u001b[0m \u001b[38;5;66;03m# Train score and Test score of Logistic Regression\u001b[39;00m\n\u001b[1;32m----> 2\u001b[0m \u001b[38;5;28mprint\u001b[39m(\u001b[38;5;124m\"\u001b[39m\u001b[38;5;124mTrain Accuracy of Logistic Regression\u001b[39m\u001b[38;5;124m\"\u001b[39m, lr\u001b[38;5;241m.\u001b[39mscore(A_train, b_train) \u001b[38;5;241m*\u001b[39m \u001b[38;5;241m100\u001b[39m)\n\u001b[0;32m      3\u001b[0m \u001b[38;5;28mprint\u001b[39m(\u001b[38;5;124m\"\u001b[39m\u001b[38;5;124mAccuracy (Test) score of Logistic Regression\u001b[39m\u001b[38;5;124m\"\u001b[39m, accuracy_score(b_test, lr_pred) \u001b[38;5;241m*\u001b[39m \u001b[38;5;241m100\u001b[39m)\n",
      "\u001b[1;31mNameError\u001b[0m: name 'lr' is not defined"
     ]
    }
   ],
   "source": [
    "# Train score and Test score of Logistic Regression\n",
    "print(\"Train Accuracy of Logistic Regression\", lr.score(A_train, b_train) * 100)\n",
    "print(\"Accuracy (Test) score of Logistic Regression\", accuracy_score(b_test, lr_pred) * 100)"
   ]
  },
  {
   "cell_type": "markdown",
   "id": "15edc8d2",
   "metadata": {},
   "source": [
    "#### Confusion Matrix of Logistic Regression"
   ]
  },
  {
   "cell_type": "code",
   "execution_count": null,
   "id": "8ca68674",
   "metadata": {},
   "outputs": [],
   "source": [
    "# Confusion Matrix of Logistic Regression\n",
    "from sklearn.metrics import classification_report, confusion_matrix\n",
    "cm = confusion_matrix(b_test, lr_pred)\n",
    "cm"
   ]
  },
  {
   "cell_type": "code",
   "execution_count": null,
   "id": "8aab27c0",
   "metadata": {},
   "outputs": [],
   "source": [
    "sns.heatmap(confusion_matrix(b_test, lr_pred), annot = True, fmt = \"d\")"
   ]
  },
  {
   "cell_type": "code",
   "execution_count": null,
   "id": "dfd3c2cb",
   "metadata": {},
   "outputs": [],
   "source": [
    "TN = cm[0,0]\n",
    "FP = cm[0,1]\n",
    "FN = cm[1,0]\n",
    "TP = cm[1,1]"
   ]
  },
  {
   "cell_type": "code",
   "execution_count": null,
   "id": "5546b889",
   "metadata": {},
   "outputs": [],
   "source": [
    "# Making the Confusion Matrix of Logistic Regression\n",
    "from sklearn.metrics import classification_report, confusion_matrix\n",
    "from sklearn.metrics import accuracy_score, roc_auc_score, roc_curve\n",
    "cm = confusion_matrix(b_test, lr_pred)\n",
    "\n",
    "print('TN - True Negative {}'.format(cm[0,0]))\n",
    "print('FP - False Positive {}'.format(cm[0,1]))\n",
    "print('FN - False Negative {}'.format(cm[1,0]))\n",
    "print('TP - True Positive {}'.format(cm[1,1]))\n",
    "print('Accuracy Rate: {}'.format(np.divide(np.sum([cm[0,0], cm[1,1]]), np.sum(cm)) * 100))\n",
    "print('Misclassification Rate: {}'.format(np.divide(np.sum([cm[0,1], cm[1,0]]), np.sum(cm))*100))"
   ]
  },
  {
   "cell_type": "code",
   "execution_count": null,
   "id": "f51f1dde",
   "metadata": {},
   "outputs": [],
   "source": [
    "import matplotlib.pyplot as plt\n",
    "plt.clf()\n",
    "plt.imshow(cm, interpolation = 'nearest', cmap = plt.cm.Wistia)\n",
    "Class_Names = ['0','1']\n",
    "plt.title('Confusion Matrix of Logistic Regression')\n",
    "plt.ylabel('Actual (true) values')\n",
    "plt.xlabel('Predicted values')\n",
    "tick_marks = np. arange(len(Class_Names))\n",
    "plt.xticks(tick_marks, Class_Names, rotation = 45)\n",
    "plt.yticks(tick_marks, Class_Names)\n",
    "s = [['TN', 'FP'], ['FN', 'TP']]\n",
    "\n",
    "for i in range(2):\n",
    "    for j in range(2):\n",
    "        plt.text(j, i, str(s[i][j]) +\" = \"+ str(cm[i][j]))\n",
    "plt.show()"
   ]
  },
  {
   "cell_type": "code",
   "execution_count": null,
   "id": "63d865ec",
   "metadata": {},
   "outputs": [],
   "source": [
    "pd.crosstab(b_test, lr_pred, margins = False)"
   ]
  },
  {
   "cell_type": "code",
   "execution_count": null,
   "id": "63269508",
   "metadata": {},
   "outputs": [],
   "source": [
    "pd.crosstab(b_test, lr_pred, margins = True)"
   ]
  },
  {
   "cell_type": "code",
   "execution_count": null,
   "id": "54a7a731",
   "metadata": {},
   "outputs": [],
   "source": [
    "pd.crosstab(b_test, lr_pred, rownames = ['Actual values'], colnames = ['Predicted values'], margins = True)"
   ]
  },
  {
   "cell_type": "markdown",
   "id": "51ab8fc2",
   "metadata": {},
   "source": [
    "#### Precision Score"
   ]
  },
  {
   "cell_type": "code",
   "execution_count": null,
   "id": "786d781a",
   "metadata": {},
   "outputs": [],
   "source": [
    "# Precision Score\n",
    "from sklearn.metrics import precision_score\n",
    "print(\"Precision Score is: \", precision_score(b_test, lr_pred) * 100)\n",
    "print(\"Micro Average Precision Score is: \", precision_score(b_test, lr_pred, average = 'micro') * 100)\n",
    "print(\"Macro Average Precision Score is: \", precision_score(b_test, lr_pred, average = 'macro') * 100)\n",
    "print(\"Weighted Average Precision Score is: \", precision_score(b_test, lr_pred, average = 'weighted') * 100)\n",
    "print(\"Precion Score on Non-Weighted Score is: \", precision_score(b_test, lr_pred, average = None) * 100)"
   ]
  },
  {
   "cell_type": "markdown",
   "id": "e6166440",
   "metadata": {},
   "source": [
    "#### Recall"
   ]
  },
  {
   "cell_type": "code",
   "execution_count": null,
   "id": "4892d30a",
   "metadata": {},
   "outputs": [],
   "source": [
    "# Recall\n",
    "from sklearn.metrics import recall_score\n",
    "print('Recall or Sensitivity_Score: ', recall_score(b_test, lr_pred) * 100)\n",
    "#print(\"Micro Average Recall Score is: \", recall_score(b_test, lr_pred, average = 'micro') * 100)\n",
    "#print(\"Macro Average Precision Score is: \", recall_score(b_test, lr_pred, average = 'macro') * 100)\n",
    "#print(\"Weighted Average Precision Score is: \", recall_score(b_test, lr_pred, average = 'weighted') * 100)\n",
    "#print(\"Recall Score on Non-Weighted Score is: \", recall_score(b_test, lr_pred, average = None) * 100)"
   ]
  },
  {
   "cell_type": "markdown",
   "id": "6f907811",
   "metadata": {},
   "source": [
    "#### F1 Score"
   ]
  },
  {
   "cell_type": "code",
   "execution_count": null,
   "id": "bd5e1c8b",
   "metadata": {},
   "outputs": [],
   "source": [
    "# F1 Score\n",
    "from sklearn.metrics import f1_score\n",
    "print('f1_score of macro: ', f1_score(b_test, lr_pred) * 100)\n",
    "print(\"Micro Average F1 Score is: \", f1_score(b_test, lr_pred, average = 'micro') * 100)\n",
    "print(\"Macro Average F1 Score is: \", f1_score(b_test, lr_pred, average = 'macro') * 100)\n",
    "print(\"Weighted Average F1 Score is: \", f1_score(b_test, lr_pred, average = 'weighted') * 100)\n",
    "print(\"F1 Score on Non-Weighted Score is: \", f1_score(b_test, lr_pred, average = None) * 100)"
   ]
  },
  {
   "cell_type": "markdown",
   "id": "e91d56ce",
   "metadata": {},
   "source": [
    "#### Classification Report of Logistic Regression"
   ]
  },
  {
   "cell_type": "code",
   "execution_count": null,
   "id": "c9c8420f",
   "metadata": {},
   "outputs": [],
   "source": [
    "# Classification Report of Logistic Regression\n",
    "print('Classification Report of Logistic Regression: \\n', classification_report(b_test, lr_pred, digits = 3))"
   ]
  },
  {
   "cell_type": "code",
   "execution_count": null,
   "id": "356894a8",
   "metadata": {},
   "outputs": [],
   "source": [
    "Models = ['Random Forest', 'Naive Bayes', 'KNN', 'Logistic Regression']\n",
    "Accuracy= [0.828, 0.776, 0.733, 0.802 ]\n",
    "colors = [\"blue\", \"red\", \"green\", \"orange\"]\n",
    "plt.bar(Models, Accuracy, color = colors )\n",
    "plt.xlabel('Models')\n",
    "plt.ylabel('Accuracy')\n",
    "plt.title('Accuracy of Models for Diabetes Prediction')\n",
    "\n",
    "plt.show()"
   ]
  },
  {
   "cell_type": "code",
   "execution_count": null,
   "id": "cb6d0f41",
   "metadata": {},
   "outputs": [],
   "source": [
    "# Communication \n",
    "def make_predictionRandom(Pregnancies, Glucose, BloodPressure, SkinThickness, Insulin, BMI, DiabetesPedigreeFunction, Age):\n",
    "    data = {\n",
    "         'Pregnancies' : Pregnancies,\n",
    "        'Glucose' : Glucose,\n",
    "        'BloodPressure': BloodPressure, \n",
    "        'SkinThickness' : SkinThickness,\n",
    "        'Insulin' : Insulin, \n",
    "        'BMI' : BMI, \n",
    "        'DiabetesPedigreeFunction' : DiabetesPedigreeFunction,\n",
    "        'Age' : Age\n",
    "    }  \n",
    "    df = pd.DataFrame(data, index = [0])\n",
    "    \n",
    "    rf_pred = rf.predict(df).round(2)[0]\n",
    "    if rf_pred == 1:\n",
    "        return f\"Predicted Diagnosis: {rf_pred}. This patient has diabetes.\"\n",
    "    else:\n",
    "        return f\"Predicted Diagnosis: {rf_pred}. This patient does not have diabetes.\"\n",
    "        "
   ]
  },
  {
   "cell_type": "code",
   "execution_count": null,
   "id": "17f6f615",
   "metadata": {},
   "outputs": [],
   "source": [
    "make_predictionRandom(8, 200, 150, 20, 150, 30.5, 2.568, 60)"
   ]
  },
  {
   "cell_type": "code",
   "execution_count": null,
   "id": "1bd20e2a",
   "metadata": {},
   "outputs": [],
   "source": [
    "# Save model i.e. deployment\n",
    "import pickle\n",
    "with open(\"deployed_rf_diabetes.pkl\", \"wb\") as f:\n",
    "    pickle.dump(rf, f)"
   ]
  },
  {
   "cell_type": "code",
   "execution_count": null,
   "id": "9019b873",
   "metadata": {},
   "outputs": [],
   "source": [
    "def make_predictionNB(Pregnancies, Glucose, BloodPressure, SkinThickness, Insulin, BMI, DiabetesPedigreeFunction, Age):\n",
    "    data = {\n",
    "        'Pregnancies' : Pregnancies,\n",
    "        'Glucose' : Glucose,\n",
    "        'BloodPressure': BloodPressure, \n",
    "        'SkinThickness' : SkinThickness,\n",
    "        'Insulin' : Insulin, \n",
    "        'BMI' : BMI, \n",
    "        'DiabetesPedigreeFunction' : DiabetesPedigreeFunction,\n",
    "        'Age' : Age\n",
    "    }\n",
    "       \n",
    "    \n",
    "    df = pd.DataFrame(data, index = [0])\n",
    "    \n",
    "    nb_pred = nb.predict(df).round(2)[0]\n",
    "    if nb_pred == 1:\n",
    "        return f\"Predicted Diagnosis: {nb_pred}. This patient has diabetes.\"\n",
    "    else:\n",
    "        return f\"Predicted Diagnosis: {nb_pred}. This patient does not have diabetes.\"\n",
    "        "
   ]
  },
  {
   "cell_type": "code",
   "execution_count": null,
   "id": "0467aabf",
   "metadata": {},
   "outputs": [],
   "source": [
    "make_predictionNB(8, 220, 180, 50, 30, 10.5, 0.568, 21)"
   ]
  },
  {
   "cell_type": "code",
   "execution_count": null,
   "id": "f07de13c",
   "metadata": {},
   "outputs": [],
   "source": [
    "# Save model that is deployment\n",
    "import pickle\n",
    "with open(\"deployed_nb_diabetes.pkl\", \"wb\") as f:\n",
    "    pickle.dump(nb, f)"
   ]
  },
  {
   "cell_type": "code",
   "execution_count": null,
   "id": "b31162f7",
   "metadata": {},
   "outputs": [],
   "source": [
    "def make_predictionKNN(Pregnancies, Glucose, BloodPressure, SkinThickness, Insulin, BMI, DiabetesPedigreeFunction, Age):\n",
    "    data = {\n",
    "        'Pregnancies' : Pregnancies,\n",
    "        'Glucose' : Glucose,\n",
    "        'BloodPressure': BloodPressure, \n",
    "        'SkinThickness' : SkinThickness,\n",
    "        'Insulin' : Insulin, \n",
    "        'BMI' : BMI, \n",
    "        'DiabetesPedigreeFunction' : DiabetesPedigreeFunction,\n",
    "        'Age' : Age\n",
    "    }\n",
    "       \n",
    "    \n",
    "    df = pd.DataFrame(data, index = [0])\n",
    "    \n",
    "    knn_pred = knn.predict(df).round(2)[0]\n",
    "    if knn_pred == 1:\n",
    "        return f\"Predicted Diagnosis: {knn_pred}. This patient has diabetes.\"\n",
    "    else:\n",
    "        return f\"Predicted Diagnosis: {knn_pred}. This patient does not have diabetes.\"\n",
    "        "
   ]
  },
  {
   "cell_type": "code",
   "execution_count": null,
   "id": "e9c3ad5a",
   "metadata": {},
   "outputs": [],
   "source": [
    "make_predictionKNN(10, 20, 100, 80, 60, 50.5, 2.879, 70)"
   ]
  },
  {
   "cell_type": "code",
   "execution_count": null,
   "id": "d4134320",
   "metadata": {},
   "outputs": [],
   "source": [
    "# Save model that is deployment\n",
    "import pickle\n",
    "with open(\"deployed_knn_diabetes.pkl\", \"wb\") as f:\n",
    "    pickle.dump(knn, f)"
   ]
  },
  {
   "cell_type": "code",
   "execution_count": null,
   "id": "d5a0f5e9",
   "metadata": {},
   "outputs": [],
   "source": [
    "def make_predictionLR(Pregnancies, Glucose, BloodPressure, SkinThickness, Insulin, BMI, DiabetesPedigreeFunction, Age):\n",
    "    data = {\n",
    "        'Pregnancies' : Pregnancies,\n",
    "        'Glucose' : Glucose,\n",
    "        'BloodPressure': BloodPressure, \n",
    "        'SkinThickness' : SkinThickness,\n",
    "        'Insulin' : Insulin, \n",
    "        'BMI' : BMI, \n",
    "        'DiabetesPedigreeFunction' : DiabetesPedigreeFunction,\n",
    "        'Age' : Age\n",
    "    }\n",
    "       \n",
    "    \n",
    "    df = pd.DataFrame(data, index = [0])\n",
    "    \n",
    "    lr_pred = lr.predict(df).round(2)[0]\n",
    "    if lr_pred == 1:\n",
    "        return f\"Predicted Diagnosis: {lr_pred}. This patient has diabetes.\"\n",
    "    else:\n",
    "        return f\"Predicted Diagnosis: {lr_pred}. This patient does not have diabetes.\"\n",
    "        "
   ]
  },
  {
   "cell_type": "code",
   "execution_count": null,
   "id": "38423353",
   "metadata": {},
   "outputs": [],
   "source": [
    "make_predictionKNN(1, 85, 66, 29, 0, 26.6, 0.351, 31)"
   ]
  },
  {
   "cell_type": "code",
   "execution_count": null,
   "id": "7a74c3a4",
   "metadata": {},
   "outputs": [],
   "source": [
    "# Save model that is deployment\n",
    "import pickle\n",
    "with open(\"deployed_lr_diabetes.pkl\", \"wb\") as f:\n",
    "    pickle.dump(lr, f)"
   ]
  },
  {
   "cell_type": "code",
   "execution_count": null,
   "id": "127dd7bb",
   "metadata": {},
   "outputs": [],
   "source": []
  }
 ],
 "metadata": {
  "kernelspec": {
   "display_name": "Python 3 (ipykernel)",
   "language": "python",
   "name": "python3"
  },
  "language_info": {
   "codemirror_mode": {
    "name": "ipython",
    "version": 3
   },
   "file_extension": ".py",
   "mimetype": "text/x-python",
   "name": "python",
   "nbconvert_exporter": "python",
   "pygments_lexer": "ipython3",
   "version": "3.11.5"
  }
 },
 "nbformat": 4,
 "nbformat_minor": 5
}
